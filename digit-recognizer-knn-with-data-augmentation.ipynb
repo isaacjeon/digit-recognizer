{
 "cells": [
  {
   "cell_type": "code",
   "execution_count": 1,
   "id": "025ac3d4",
   "metadata": {
    "_cell_guid": "b1076dfc-b9ad-4769-8c92-a6c4dae69d19",
    "_uuid": "8f2839f25d086af736a60e9eeb907d3b93b6e0e5",
    "execution": {
     "iopub.execute_input": "2025-02-06T02:32:33.650235Z",
     "iopub.status.busy": "2025-02-06T02:32:33.649842Z",
     "iopub.status.idle": "2025-02-06T02:32:34.675017Z",
     "shell.execute_reply": "2025-02-06T02:32:34.673512Z"
    },
    "papermill": {
     "duration": 1.032368,
     "end_time": "2025-02-06T02:32:34.676931",
     "exception": false,
     "start_time": "2025-02-06T02:32:33.644563",
     "status": "completed"
    },
    "tags": []
   },
   "outputs": [
    {
     "name": "stdout",
     "output_type": "stream",
     "text": [
      "/kaggle/input/digit-recognizer/sample_submission.csv\n",
      "/kaggle/input/digit-recognizer/train.csv\n",
      "/kaggle/input/digit-recognizer/test.csv\n"
     ]
    }
   ],
   "source": [
    "# This Python 3 environment comes with many helpful analytics libraries installed\n",
    "# It is defined by the kaggle/python Docker image: https://github.com/kaggle/docker-python\n",
    "# For example, here's several helpful packages to load\n",
    "\n",
    "import numpy as np # linear algebra\n",
    "import pandas as pd # data processing, CSV file I/O (e.g. pd.read_csv)\n",
    "\n",
    "# Input data files are available in the read-only \"../input/\" directory\n",
    "# For example, running this (by clicking run or pressing Shift+Enter) will list all files under the input directory\n",
    "\n",
    "import os\n",
    "for dirname, _, filenames in os.walk('/kaggle/input'):\n",
    "    for filename in filenames:\n",
    "        print(os.path.join(dirname, filename))\n",
    "\n",
    "# You can write up to 20GB to the current directory (/kaggle/working/) that gets preserved as output when you create a version using \"Save & Run All\" \n",
    "# You can also write temporary files to /kaggle/temp/, but they won't be saved outside of the current session"
   ]
  },
  {
   "cell_type": "code",
   "execution_count": 2,
   "id": "a9475722",
   "metadata": {
    "execution": {
     "iopub.execute_input": "2025-02-06T02:32:34.686057Z",
     "iopub.status.busy": "2025-02-06T02:32:34.685585Z",
     "iopub.status.idle": "2025-02-06T02:32:40.097756Z",
     "shell.execute_reply": "2025-02-06T02:32:40.096695Z"
    },
    "papermill": {
     "duration": 5.41879,
     "end_time": "2025-02-06T02:32:40.099835",
     "exception": false,
     "start_time": "2025-02-06T02:32:34.681045",
     "status": "completed"
    },
    "tags": []
   },
   "outputs": [],
   "source": [
    "train = pd.read_csv('/kaggle/input/digit-recognizer/train.csv')\n",
    "test = pd.read_csv('/kaggle/input/digit-recognizer/test.csv')"
   ]
  },
  {
   "cell_type": "markdown",
   "id": "c1227590",
   "metadata": {
    "papermill": {
     "duration": 0.003348,
     "end_time": "2025-02-06T02:32:40.106886",
     "exception": false,
     "start_time": "2025-02-06T02:32:40.103538",
     "status": "completed"
    },
    "tags": []
   },
   "source": [
    "#### Data Augmentation\n",
    "\n",
    "For each image in the training set, create four shifted copies (shifted 1 pixel for each direction: left, right, up, down) and add to the training set in order to improve model performance."
   ]
  },
  {
   "cell_type": "code",
   "execution_count": 3,
   "id": "bf04db4c",
   "metadata": {
    "execution": {
     "iopub.execute_input": "2025-02-06T02:32:40.115350Z",
     "iopub.status.busy": "2025-02-06T02:32:40.114951Z",
     "iopub.status.idle": "2025-02-06T02:32:40.241386Z",
     "shell.execute_reply": "2025-02-06T02:32:40.240081Z"
    },
    "papermill": {
     "duration": 0.132708,
     "end_time": "2025-02-06T02:32:40.243276",
     "exception": false,
     "start_time": "2025-02-06T02:32:40.110568",
     "status": "completed"
    },
    "tags": []
   },
   "outputs": [
    {
     "name": "stdout",
     "output_type": "stream",
     "text": [
      "(42000, 784)\n",
      "(42000,)\n"
     ]
    }
   ],
   "source": [
    "X_train = train.drop(columns='label').to_numpy()\n",
    "y_train = train['label'].to_numpy()\n",
    "\n",
    "print(X_train.shape)\n",
    "print(y_train.shape)"
   ]
  },
  {
   "cell_type": "code",
   "execution_count": 4,
   "id": "9e0e1cfa",
   "metadata": {
    "execution": {
     "iopub.execute_input": "2025-02-06T02:32:40.252161Z",
     "iopub.status.busy": "2025-02-06T02:32:40.251675Z",
     "iopub.status.idle": "2025-02-06T02:32:40.732263Z",
     "shell.execute_reply": "2025-02-06T02:32:40.730962Z"
    },
    "papermill": {
     "duration": 0.487466,
     "end_time": "2025-02-06T02:32:40.734548",
     "exception": false,
     "start_time": "2025-02-06T02:32:40.247082",
     "status": "completed"
    },
    "tags": []
   },
   "outputs": [],
   "source": [
    "from scipy.ndimage import shift\n",
    "\n",
    "def shift_img(img, dx, dy):\n",
    "    return shift(img.reshape((28, 28)), [dy, dx]).reshape([-1])"
   ]
  },
  {
   "cell_type": "code",
   "execution_count": 5,
   "id": "e34af32d",
   "metadata": {
    "execution": {
     "iopub.execute_input": "2025-02-06T02:32:40.749164Z",
     "iopub.status.busy": "2025-02-06T02:32:40.748600Z",
     "iopub.status.idle": "2025-02-06T02:33:05.453421Z",
     "shell.execute_reply": "2025-02-06T02:33:05.452168Z"
    },
    "papermill": {
     "duration": 24.714112,
     "end_time": "2025-02-06T02:33:05.455315",
     "exception": false,
     "start_time": "2025-02-06T02:32:40.741203",
     "status": "completed"
    },
    "tags": []
   },
   "outputs": [
    {
     "name": "stdout",
     "output_type": "stream",
     "text": [
      "(210000, 784)\n",
      "(210000,)\n"
     ]
    }
   ],
   "source": [
    "X_aug = []\n",
    "y_aug = []\n",
    "\n",
    "for dx, dy in ((-1, 0), (1, 0), (0, -1), (0, 1)):\n",
    "    for img, lab in zip(X_train, y_train):\n",
    "        X_aug.append(shift_img(img, dx, dy))\n",
    "        y_aug.append(lab)\n",
    "\n",
    "X_train_new = np.append(X_train, X_aug, axis=0)\n",
    "y_train_new = np.append(y_train, y_aug)\n",
    "\n",
    "print(X_train_new.shape)\n",
    "print(y_train_new.shape)"
   ]
  },
  {
   "cell_type": "code",
   "execution_count": 6,
   "id": "1619b76c",
   "metadata": {
    "execution": {
     "iopub.execute_input": "2025-02-06T02:33:05.463990Z",
     "iopub.status.busy": "2025-02-06T02:33:05.463628Z",
     "iopub.status.idle": "2025-02-06T02:33:05.870236Z",
     "shell.execute_reply": "2025-02-06T02:33:05.869029Z"
    },
    "papermill": {
     "duration": 0.413201,
     "end_time": "2025-02-06T02:33:05.872321",
     "exception": false,
     "start_time": "2025-02-06T02:33:05.459120",
     "status": "completed"
    },
    "tags": []
   },
   "outputs": [],
   "source": [
    "shuffle_idx = np.random.permutation(len(X_train))\n",
    "X_train = X_train[shuffle_idx]\n",
    "y_train = y_train[shuffle_idx]"
   ]
  },
  {
   "cell_type": "markdown",
   "id": "e7d89479",
   "metadata": {
    "papermill": {
     "duration": 0.003279,
     "end_time": "2025-02-06T02:33:05.879473",
     "exception": false,
     "start_time": "2025-02-06T02:33:05.876194",
     "status": "completed"
    },
    "tags": []
   },
   "source": [
    "#### KNN Classifier with Grid Search\n",
    "\n",
    "Since grid search will take much longer to complete using the new augmented training data set, first perform grid search on the original training set, and use the best hyperparameters to fit a model using the augmented training set."
   ]
  },
  {
   "cell_type": "code",
   "execution_count": 7,
   "id": "bd2452f1",
   "metadata": {
    "execution": {
     "iopub.execute_input": "2025-02-06T02:33:05.887776Z",
     "iopub.status.busy": "2025-02-06T02:33:05.887414Z",
     "iopub.status.idle": "2025-02-06T02:39:10.272964Z",
     "shell.execute_reply": "2025-02-06T02:39:10.271761Z"
    },
    "papermill": {
     "duration": 364.39529,
     "end_time": "2025-02-06T02:39:10.278251",
     "exception": false,
     "start_time": "2025-02-06T02:33:05.882961",
     "status": "completed"
    },
    "tags": []
   },
   "outputs": [
    {
     "data": {
      "text/html": [
       "<style>#sk-container-id-1 {color: black;background-color: white;}#sk-container-id-1 pre{padding: 0;}#sk-container-id-1 div.sk-toggleable {background-color: white;}#sk-container-id-1 label.sk-toggleable__label {cursor: pointer;display: block;width: 100%;margin-bottom: 0;padding: 0.3em;box-sizing: border-box;text-align: center;}#sk-container-id-1 label.sk-toggleable__label-arrow:before {content: \"▸\";float: left;margin-right: 0.25em;color: #696969;}#sk-container-id-1 label.sk-toggleable__label-arrow:hover:before {color: black;}#sk-container-id-1 div.sk-estimator:hover label.sk-toggleable__label-arrow:before {color: black;}#sk-container-id-1 div.sk-toggleable__content {max-height: 0;max-width: 0;overflow: hidden;text-align: left;background-color: #f0f8ff;}#sk-container-id-1 div.sk-toggleable__content pre {margin: 0.2em;color: black;border-radius: 0.25em;background-color: #f0f8ff;}#sk-container-id-1 input.sk-toggleable__control:checked~div.sk-toggleable__content {max-height: 200px;max-width: 100%;overflow: auto;}#sk-container-id-1 input.sk-toggleable__control:checked~label.sk-toggleable__label-arrow:before {content: \"▾\";}#sk-container-id-1 div.sk-estimator input.sk-toggleable__control:checked~label.sk-toggleable__label {background-color: #d4ebff;}#sk-container-id-1 div.sk-label input.sk-toggleable__control:checked~label.sk-toggleable__label {background-color: #d4ebff;}#sk-container-id-1 input.sk-hidden--visually {border: 0;clip: rect(1px 1px 1px 1px);clip: rect(1px, 1px, 1px, 1px);height: 1px;margin: -1px;overflow: hidden;padding: 0;position: absolute;width: 1px;}#sk-container-id-1 div.sk-estimator {font-family: monospace;background-color: #f0f8ff;border: 1px dotted black;border-radius: 0.25em;box-sizing: border-box;margin-bottom: 0.5em;}#sk-container-id-1 div.sk-estimator:hover {background-color: #d4ebff;}#sk-container-id-1 div.sk-parallel-item::after {content: \"\";width: 100%;border-bottom: 1px solid gray;flex-grow: 1;}#sk-container-id-1 div.sk-label:hover label.sk-toggleable__label {background-color: #d4ebff;}#sk-container-id-1 div.sk-serial::before {content: \"\";position: absolute;border-left: 1px solid gray;box-sizing: border-box;top: 0;bottom: 0;left: 50%;z-index: 0;}#sk-container-id-1 div.sk-serial {display: flex;flex-direction: column;align-items: center;background-color: white;padding-right: 0.2em;padding-left: 0.2em;position: relative;}#sk-container-id-1 div.sk-item {position: relative;z-index: 1;}#sk-container-id-1 div.sk-parallel {display: flex;align-items: stretch;justify-content: center;background-color: white;position: relative;}#sk-container-id-1 div.sk-item::before, #sk-container-id-1 div.sk-parallel-item::before {content: \"\";position: absolute;border-left: 1px solid gray;box-sizing: border-box;top: 0;bottom: 0;left: 50%;z-index: -1;}#sk-container-id-1 div.sk-parallel-item {display: flex;flex-direction: column;z-index: 1;position: relative;background-color: white;}#sk-container-id-1 div.sk-parallel-item:first-child::after {align-self: flex-end;width: 50%;}#sk-container-id-1 div.sk-parallel-item:last-child::after {align-self: flex-start;width: 50%;}#sk-container-id-1 div.sk-parallel-item:only-child::after {width: 0;}#sk-container-id-1 div.sk-dashed-wrapped {border: 1px dashed gray;margin: 0 0.4em 0.5em 0.4em;box-sizing: border-box;padding-bottom: 0.4em;background-color: white;}#sk-container-id-1 div.sk-label label {font-family: monospace;font-weight: bold;display: inline-block;line-height: 1.2em;}#sk-container-id-1 div.sk-label-container {text-align: center;}#sk-container-id-1 div.sk-container {/* jupyter's `normalize.less` sets `[hidden] { display: none; }` but bootstrap.min.css set `[hidden] { display: none !important; }` so we also need the `!important` here to be able to override the default hidden behavior on the sphinx rendered scikit-learn.org. See: https://github.com/scikit-learn/scikit-learn/issues/21755 */display: inline-block !important;position: relative;}#sk-container-id-1 div.sk-text-repr-fallback {display: none;}</style><div id=\"sk-container-id-1\" class=\"sk-top-container\"><div class=\"sk-text-repr-fallback\"><pre>GridSearchCV(cv=5, estimator=KNeighborsClassifier(),\n",
       "             param_grid=[{&#x27;n_neighbors&#x27;: [3, 4, 5],\n",
       "                          &#x27;weights&#x27;: [&#x27;uniform&#x27;, &#x27;distance&#x27;]}])</pre><b>In a Jupyter environment, please rerun this cell to show the HTML representation or trust the notebook. <br />On GitHub, the HTML representation is unable to render, please try loading this page with nbviewer.org.</b></div><div class=\"sk-container\" hidden><div class=\"sk-item sk-dashed-wrapped\"><div class=\"sk-label-container\"><div class=\"sk-label sk-toggleable\"><input class=\"sk-toggleable__control sk-hidden--visually\" id=\"sk-estimator-id-1\" type=\"checkbox\" ><label for=\"sk-estimator-id-1\" class=\"sk-toggleable__label sk-toggleable__label-arrow\">GridSearchCV</label><div class=\"sk-toggleable__content\"><pre>GridSearchCV(cv=5, estimator=KNeighborsClassifier(),\n",
       "             param_grid=[{&#x27;n_neighbors&#x27;: [3, 4, 5],\n",
       "                          &#x27;weights&#x27;: [&#x27;uniform&#x27;, &#x27;distance&#x27;]}])</pre></div></div></div><div class=\"sk-parallel\"><div class=\"sk-parallel-item\"><div class=\"sk-item\"><div class=\"sk-label-container\"><div class=\"sk-label sk-toggleable\"><input class=\"sk-toggleable__control sk-hidden--visually\" id=\"sk-estimator-id-2\" type=\"checkbox\" ><label for=\"sk-estimator-id-2\" class=\"sk-toggleable__label sk-toggleable__label-arrow\">estimator: KNeighborsClassifier</label><div class=\"sk-toggleable__content\"><pre>KNeighborsClassifier()</pre></div></div></div><div class=\"sk-serial\"><div class=\"sk-item\"><div class=\"sk-estimator sk-toggleable\"><input class=\"sk-toggleable__control sk-hidden--visually\" id=\"sk-estimator-id-3\" type=\"checkbox\" ><label for=\"sk-estimator-id-3\" class=\"sk-toggleable__label sk-toggleable__label-arrow\">KNeighborsClassifier</label><div class=\"sk-toggleable__content\"><pre>KNeighborsClassifier()</pre></div></div></div></div></div></div></div></div></div></div>"
      ],
      "text/plain": [
       "GridSearchCV(cv=5, estimator=KNeighborsClassifier(),\n",
       "             param_grid=[{'n_neighbors': [3, 4, 5],\n",
       "                          'weights': ['uniform', 'distance']}])"
      ]
     },
     "execution_count": 7,
     "metadata": {},
     "output_type": "execute_result"
    }
   ],
   "source": [
    "from sklearn.neighbors import KNeighborsClassifier\n",
    "from sklearn.model_selection import GridSearchCV\n",
    "\n",
    "param_grid = [{'n_neighbors': [3, 4, 5], 'weights': [\"uniform\", \"distance\"]}]\n",
    "\n",
    "knn = KNeighborsClassifier()\n",
    "gs = GridSearchCV(knn, param_grid, cv=5)\n",
    "gs.fit(X_train, y_train)"
   ]
  },
  {
   "cell_type": "code",
   "execution_count": 8,
   "id": "60f4f92f",
   "metadata": {
    "execution": {
     "iopub.execute_input": "2025-02-06T02:39:10.287681Z",
     "iopub.status.busy": "2025-02-06T02:39:10.287100Z",
     "iopub.status.idle": "2025-02-06T02:39:10.292886Z",
     "shell.execute_reply": "2025-02-06T02:39:10.291879Z"
    },
    "papermill": {
     "duration": 0.012611,
     "end_time": "2025-02-06T02:39:10.294841",
     "exception": false,
     "start_time": "2025-02-06T02:39:10.282230",
     "status": "completed"
    },
    "tags": []
   },
   "outputs": [
    {
     "name": "stdout",
     "output_type": "stream",
     "text": [
      "{'n_neighbors': 4, 'weights': 'distance'}\n",
      "0.9695476190476191\n"
     ]
    }
   ],
   "source": [
    "print(gs.best_params_)\n",
    "print(gs.best_score_)"
   ]
  },
  {
   "cell_type": "code",
   "execution_count": 9,
   "id": "814b220a",
   "metadata": {
    "execution": {
     "iopub.execute_input": "2025-02-06T02:39:10.304429Z",
     "iopub.status.busy": "2025-02-06T02:39:10.303886Z",
     "iopub.status.idle": "2025-02-06T02:39:10.329791Z",
     "shell.execute_reply": "2025-02-06T02:39:10.328610Z"
    },
    "papermill": {
     "duration": 0.032661,
     "end_time": "2025-02-06T02:39:10.331764",
     "exception": false,
     "start_time": "2025-02-06T02:39:10.299103",
     "status": "completed"
    },
    "tags": []
   },
   "outputs": [
    {
     "data": {
      "text/html": [
       "<style>#sk-container-id-2 {color: black;background-color: white;}#sk-container-id-2 pre{padding: 0;}#sk-container-id-2 div.sk-toggleable {background-color: white;}#sk-container-id-2 label.sk-toggleable__label {cursor: pointer;display: block;width: 100%;margin-bottom: 0;padding: 0.3em;box-sizing: border-box;text-align: center;}#sk-container-id-2 label.sk-toggleable__label-arrow:before {content: \"▸\";float: left;margin-right: 0.25em;color: #696969;}#sk-container-id-2 label.sk-toggleable__label-arrow:hover:before {color: black;}#sk-container-id-2 div.sk-estimator:hover label.sk-toggleable__label-arrow:before {color: black;}#sk-container-id-2 div.sk-toggleable__content {max-height: 0;max-width: 0;overflow: hidden;text-align: left;background-color: #f0f8ff;}#sk-container-id-2 div.sk-toggleable__content pre {margin: 0.2em;color: black;border-radius: 0.25em;background-color: #f0f8ff;}#sk-container-id-2 input.sk-toggleable__control:checked~div.sk-toggleable__content {max-height: 200px;max-width: 100%;overflow: auto;}#sk-container-id-2 input.sk-toggleable__control:checked~label.sk-toggleable__label-arrow:before {content: \"▾\";}#sk-container-id-2 div.sk-estimator input.sk-toggleable__control:checked~label.sk-toggleable__label {background-color: #d4ebff;}#sk-container-id-2 div.sk-label input.sk-toggleable__control:checked~label.sk-toggleable__label {background-color: #d4ebff;}#sk-container-id-2 input.sk-hidden--visually {border: 0;clip: rect(1px 1px 1px 1px);clip: rect(1px, 1px, 1px, 1px);height: 1px;margin: -1px;overflow: hidden;padding: 0;position: absolute;width: 1px;}#sk-container-id-2 div.sk-estimator {font-family: monospace;background-color: #f0f8ff;border: 1px dotted black;border-radius: 0.25em;box-sizing: border-box;margin-bottom: 0.5em;}#sk-container-id-2 div.sk-estimator:hover {background-color: #d4ebff;}#sk-container-id-2 div.sk-parallel-item::after {content: \"\";width: 100%;border-bottom: 1px solid gray;flex-grow: 1;}#sk-container-id-2 div.sk-label:hover label.sk-toggleable__label {background-color: #d4ebff;}#sk-container-id-2 div.sk-serial::before {content: \"\";position: absolute;border-left: 1px solid gray;box-sizing: border-box;top: 0;bottom: 0;left: 50%;z-index: 0;}#sk-container-id-2 div.sk-serial {display: flex;flex-direction: column;align-items: center;background-color: white;padding-right: 0.2em;padding-left: 0.2em;position: relative;}#sk-container-id-2 div.sk-item {position: relative;z-index: 1;}#sk-container-id-2 div.sk-parallel {display: flex;align-items: stretch;justify-content: center;background-color: white;position: relative;}#sk-container-id-2 div.sk-item::before, #sk-container-id-2 div.sk-parallel-item::before {content: \"\";position: absolute;border-left: 1px solid gray;box-sizing: border-box;top: 0;bottom: 0;left: 50%;z-index: -1;}#sk-container-id-2 div.sk-parallel-item {display: flex;flex-direction: column;z-index: 1;position: relative;background-color: white;}#sk-container-id-2 div.sk-parallel-item:first-child::after {align-self: flex-end;width: 50%;}#sk-container-id-2 div.sk-parallel-item:last-child::after {align-self: flex-start;width: 50%;}#sk-container-id-2 div.sk-parallel-item:only-child::after {width: 0;}#sk-container-id-2 div.sk-dashed-wrapped {border: 1px dashed gray;margin: 0 0.4em 0.5em 0.4em;box-sizing: border-box;padding-bottom: 0.4em;background-color: white;}#sk-container-id-2 div.sk-label label {font-family: monospace;font-weight: bold;display: inline-block;line-height: 1.2em;}#sk-container-id-2 div.sk-label-container {text-align: center;}#sk-container-id-2 div.sk-container {/* jupyter's `normalize.less` sets `[hidden] { display: none; }` but bootstrap.min.css set `[hidden] { display: none !important; }` so we also need the `!important` here to be able to override the default hidden behavior on the sphinx rendered scikit-learn.org. See: https://github.com/scikit-learn/scikit-learn/issues/21755 */display: inline-block !important;position: relative;}#sk-container-id-2 div.sk-text-repr-fallback {display: none;}</style><div id=\"sk-container-id-2\" class=\"sk-top-container\"><div class=\"sk-text-repr-fallback\"><pre>KNeighborsClassifier(n_neighbors=4, weights=&#x27;distance&#x27;)</pre><b>In a Jupyter environment, please rerun this cell to show the HTML representation or trust the notebook. <br />On GitHub, the HTML representation is unable to render, please try loading this page with nbviewer.org.</b></div><div class=\"sk-container\" hidden><div class=\"sk-item\"><div class=\"sk-estimator sk-toggleable\"><input class=\"sk-toggleable__control sk-hidden--visually\" id=\"sk-estimator-id-4\" type=\"checkbox\" checked><label for=\"sk-estimator-id-4\" class=\"sk-toggleable__label sk-toggleable__label-arrow\">KNeighborsClassifier</label><div class=\"sk-toggleable__content\"><pre>KNeighborsClassifier(n_neighbors=4, weights=&#x27;distance&#x27;)</pre></div></div></div></div></div>"
      ],
      "text/plain": [
       "KNeighborsClassifier(n_neighbors=4, weights='distance')"
      ]
     },
     "execution_count": 9,
     "metadata": {},
     "output_type": "execute_result"
    }
   ],
   "source": [
    "knn = KNeighborsClassifier(**gs.best_params_)\n",
    "knn.fit(X_train_new, y_train_new)"
   ]
  },
  {
   "cell_type": "code",
   "execution_count": 10,
   "id": "8e1e76a4",
   "metadata": {
    "execution": {
     "iopub.execute_input": "2025-02-06T02:39:10.341623Z",
     "iopub.status.busy": "2025-02-06T02:39:10.341266Z",
     "iopub.status.idle": "2025-02-06T02:43:41.279771Z",
     "shell.execute_reply": "2025-02-06T02:43:41.278616Z"
    },
    "papermill": {
     "duration": 270.945895,
     "end_time": "2025-02-06T02:43:41.282064",
     "exception": false,
     "start_time": "2025-02-06T02:39:10.336169",
     "status": "completed"
    },
    "tags": []
   },
   "outputs": [],
   "source": [
    "X_test = test.to_numpy()\n",
    "predictions = knn.predict(X_test)"
   ]
  },
  {
   "cell_type": "code",
   "execution_count": 11,
   "id": "45423a93",
   "metadata": {
    "execution": {
     "iopub.execute_input": "2025-02-06T02:43:41.292164Z",
     "iopub.status.busy": "2025-02-06T02:43:41.291772Z",
     "iopub.status.idle": "2025-02-06T02:43:41.324168Z",
     "shell.execute_reply": "2025-02-06T02:43:41.323089Z"
    },
    "papermill": {
     "duration": 0.039308,
     "end_time": "2025-02-06T02:43:41.325827",
     "exception": false,
     "start_time": "2025-02-06T02:43:41.286519",
     "status": "completed"
    },
    "tags": []
   },
   "outputs": [
    {
     "name": "stdout",
     "output_type": "stream",
     "text": [
      "Your submission was successfully saved!\n"
     ]
    }
   ],
   "source": [
    "output = pd.DataFrame({'ImageId': range(1, len(test) + 1), 'Label': predictions})\n",
    "output.to_csv('submission.csv', index=False)\n",
    "print(\"Your submission was successfully saved!\")"
   ]
  },
  {
   "cell_type": "code",
   "execution_count": null,
   "id": "6b206dc4",
   "metadata": {
    "papermill": {
     "duration": 0.00386,
     "end_time": "2025-02-06T02:43:41.334174",
     "exception": false,
     "start_time": "2025-02-06T02:43:41.330314",
     "status": "completed"
    },
    "tags": []
   },
   "outputs": [],
   "source": []
  }
 ],
 "metadata": {
  "kaggle": {
   "accelerator": "none",
   "dataSources": [
    {
     "databundleVersionId": 861823,
     "sourceId": 3004,
     "sourceType": "competition"
    }
   ],
   "dockerImageVersionId": 30839,
   "isGpuEnabled": false,
   "isInternetEnabled": false,
   "language": "python",
   "sourceType": "notebook"
  },
  "kernelspec": {
   "display_name": "Python 3",
   "language": "python",
   "name": "python3"
  },
  "language_info": {
   "codemirror_mode": {
    "name": "ipython",
    "version": 3
   },
   "file_extension": ".py",
   "mimetype": "text/x-python",
   "name": "python",
   "nbconvert_exporter": "python",
   "pygments_lexer": "ipython3",
   "version": "3.10.12"
  },
  "papermill": {
   "default_parameters": {},
   "duration": 671.462178,
   "end_time": "2025-02-06T02:43:42.261648",
   "environment_variables": {},
   "exception": null,
   "input_path": "__notebook__.ipynb",
   "output_path": "__notebook__.ipynb",
   "parameters": {},
   "start_time": "2025-02-06T02:32:30.799470",
   "version": "2.6.0"
  }
 },
 "nbformat": 4,
 "nbformat_minor": 5
}
